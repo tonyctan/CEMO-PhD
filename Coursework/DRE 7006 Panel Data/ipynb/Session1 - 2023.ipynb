{
 "cells": [
  {
   "cell_type": "markdown",
   "id": "fca1b00e",
   "metadata": {},
   "source": [
    "# Setting up PYSTATA"
   ]
  },
  {
   "cell_type": "code",
   "execution_count": null,
   "id": "5d059394",
   "metadata": {},
   "outputs": [
    {
     "ename": "",
     "evalue": "",
     "output_type": "error",
     "traceback": [
      "\u001b[1;31mFailed to start the Kernel. \n",
      "\u001b[1;31mActivating extension 'ms-python.python' failed: Expected a string, got object. \n",
      "\u001b[1;31mView Jupyter <a href='command:jupyter.viewOutput'>log</a> for further details."
     ]
    }
   ],
   "source": [
    "import sys\n",
    "sys.path.append('Applications/Stata/utilities')\n",
    "import stata_setup\n",
    "from pystata import config\n",
    "config.init('se')"
   ]
  },
  {
   "cell_type": "markdown",
   "id": "15c488a9",
   "metadata": {},
   "source": [
    "## Introduction"
   ]
  },
  {
   "cell_type": "markdown",
   "id": "4757d59a",
   "metadata": {},
   "source": [
    "This is a Jupyter workbook for Session 1 of DRE 7006. Let us first try it and see if it works:"
   ]
  },
  {
   "cell_type": "code",
   "execution_count": null,
   "id": "a90023d1",
   "metadata": {},
   "outputs": [],
   "source": [
    "%%stata\n",
    "display 2+2"
   ]
  },
  {
   "cell_type": "markdown",
   "id": "b52b55d1",
   "metadata": {},
   "source": [
    "That was maybe not so STATA-like."
   ]
  },
  {
   "cell_type": "code",
   "execution_count": null,
   "id": "73476ef5",
   "metadata": {},
   "outputs": [],
   "source": [
    "%%stata\n",
    "clear\n",
    "set obs 100\n",
    "gen x = runiform()\n",
    "histogram x"
   ]
  },
  {
   "cell_type": "markdown",
   "id": "4d87253b",
   "metadata": {},
   "source": [
    "You can see that this is STATA from the beautiful colors!"
   ]
  },
  {
   "cell_type": "markdown",
   "id": "0e1be46b",
   "metadata": {},
   "source": [
    "# The central limit theorem / introduction to \"simulate\""
   ]
  },
  {
   "cell_type": "markdown",
   "id": "f0af0114",
   "metadata": {},
   "source": [
    "As you sum random variables or take the mean of random variables, you get something that converges to a normal distribution."
   ]
  },
  {
   "cell_type": "code",
   "execution_count": null,
   "id": "6ad5dc30",
   "metadata": {},
   "outputs": [],
   "source": [
    "%%stata\n",
    "program makemean\n",
    "    args n\n",
    "    drop _all\n",
    "    set obs `n'    \n",
    "    gen x = runiform()\n",
    "    summarize x\n",
    "end"
   ]
  },
  {
   "cell_type": "code",
   "execution_count": null,
   "id": "eedcd498",
   "metadata": {},
   "outputs": [],
   "source": [
    "%%stata\n",
    "clear\n",
    "makemean 5"
   ]
  },
  {
   "cell_type": "code",
   "execution_count": null,
   "id": "84019ae9",
   "metadata": {},
   "outputs": [],
   "source": [
    "%%stata\n",
    "clear\n",
    "simulate r(mean), reps(10000) nodots: makemean 1\n",
    "sum\n",
    "histogram _sim_1\n"
   ]
  },
  {
   "cell_type": "code",
   "execution_count": null,
   "id": "df4f29ac",
   "metadata": {},
   "outputs": [],
   "source": [
    "%%stata\n",
    "clear\n",
    "simulate r(mean), reps(10000) nodots: makemean 30\n",
    "sum\n",
    "histogram _sim_1"
   ]
  },
  {
   "cell_type": "code",
   "execution_count": null,
   "id": "d56c2e90",
   "metadata": {},
   "outputs": [],
   "source": [
    "%%stata\n",
    "program drop makemean"
   ]
  },
  {
   "cell_type": "markdown",
   "id": "dbcfac6f",
   "metadata": {},
   "source": [
    "# Assessing standard errors"
   ]
  },
  {
   "cell_type": "markdown",
   "id": "4eccf20a",
   "metadata": {},
   "source": [
    "We define programs that generate data and run linear regressions. The first one is with homoskedasticity and the second one with heteroskedasticity."
   ]
  },
  {
   "cell_type": "code",
   "execution_count": null,
   "id": "cae298d7",
   "metadata": {},
   "outputs": [],
   "source": [
    "%%stata\n",
    "program linregsim\n",
    "        drop _all\n",
    "        set obs 942\n",
    "        gen z = exp(rnormal())\n",
    "        gen x = rnormal()\n",
    "        gen epsi = rnormal()\n",
    "        gen y = 1 + 2* x + 3* z + epsi\n",
    "        regress y x z\n",
    "    end\n"
   ]
  },
  {
   "cell_type": "markdown",
   "id": "a907325a",
   "metadata": {},
   "source": [
    "We need the command below, because we need to drop the program before every time we redefine the program:"
   ]
  },
  {
   "cell_type": "code",
   "execution_count": null,
   "id": "d20dce89",
   "metadata": {},
   "outputs": [],
   "source": [
    "%%stata\n",
    "program drop linregsim"
   ]
  },
  {
   "cell_type": "code",
   "execution_count": null,
   "id": "2229426d",
   "metadata": {},
   "outputs": [],
   "source": [
    "%%stata\n",
    "program define linregsim2\n",
    "        drop _all\n",
    "        set obs 942\n",
    "        gen z = exp(rnormal())\n",
    "        gen x = rnormal()\n",
    "        gen epsi = rnormal()\n",
    "        gen y = 1 + 2* x + 3* z + epsi+ x*x*epsi\n",
    "        regress y x z\n",
    "    end"
   ]
  },
  {
   "cell_type": "markdown",
   "id": "7d3c5c79",
   "metadata": {},
   "source": [
    "The variance of epsi is now $(1+x^2)^2$. So the expectation of epsi does not depend on x, but the variance does."
   ]
  },
  {
   "cell_type": "code",
   "execution_count": null,
   "id": "a9924412",
   "metadata": {},
   "outputs": [],
   "source": [
    "%%stata\n",
    "program drop linregsim2"
   ]
  },
  {
   "cell_type": "markdown",
   "id": "1926654a",
   "metadata": {},
   "source": [
    "When these programs are defined, we can run the programs."
   ]
  },
  {
   "cell_type": "code",
   "execution_count": null,
   "id": "60121a25",
   "metadata": {},
   "outputs": [],
   "source": [
    "%%stata\n",
    "clear\n",
    "linregsim"
   ]
  },
  {
   "cell_type": "markdown",
   "id": "8ba4dba7",
   "metadata": {},
   "source": [
    "# Simulation"
   ]
  },
  {
   "cell_type": "markdown",
   "id": "9523dbcc",
   "metadata": {},
   "source": [
    "We can simulate data and run the regression 1000 times. Then look at the dispersion in estimates. This is the thought experiment we are doing when we talk about \"standard errors\" and statistical inference in general."
   ]
  },
  {
   "cell_type": "code",
   "execution_count": null,
   "id": "3aee95f9",
   "metadata": {},
   "outputs": [],
   "source": [
    "%%stata\n",
    "simulate _b, reps(1000): linregsim\n",
    "summarize"
   ]
  },
  {
   "cell_type": "code",
   "execution_count": null,
   "id": "f988fa74",
   "metadata": {},
   "outputs": [],
   "source": [
    "%%stata\n",
    "linregsim\n",
    "regress y x z, robust\n",
    "regress y x z, vce(bootstrap, reps(1000))"
   ]
  },
  {
   "cell_type": "code",
   "execution_count": null,
   "id": "3a5a1454",
   "metadata": {},
   "outputs": [],
   "source": [
    "%%stata\n",
    "simulate _b, reps(1000): linregsim2\n",
    "summarize"
   ]
  },
  {
   "cell_type": "code",
   "execution_count": null,
   "id": "694019f8",
   "metadata": {},
   "outputs": [],
   "source": [
    "%%stata\n",
    "linregsim2\n",
    "regress y x z, robust\n",
    "regress y x z, vce(bootstrap, reps(1000))"
   ]
  },
  {
   "cell_type": "code",
   "execution_count": null,
   "id": "33a52833",
   "metadata": {},
   "outputs": [],
   "source": []
  }
 ],
 "metadata": {
  "kernelspec": {
   "display_name": "Stata",
   "language": "stata",
   "name": "stata"
  },
  "language_info": {
   "codemirror_mode": {
    "name": "ipython",
    "version": 3
   },
   "file_extension": ".py",
   "mimetype": "text/x-python",
   "name": "stata",
   "nbconvert_exporter": "python",
   "pygments_lexer": "ipython3",
   "version": "3.9.12"
  }
 },
 "nbformat": 4,
 "nbformat_minor": 5
}
