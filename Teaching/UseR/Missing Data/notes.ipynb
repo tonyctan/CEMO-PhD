{
 "cells": [
  {
   "cell_type": "markdown",
   "metadata": {},
   "source": [
    "# Missing Data Treatment: A Hand-on Illustration using `R` Package `mice`"
   ]
  },
  {
   "cell_type": "markdown",
   "metadata": {},
   "source": [
    "## 0. A Bird-eye View of this Session\n",
    "\n",
    "### 0.1 Learning Intention\n",
    "This hand-on session aims to empower the `R` user community with a gentle introduction to the multiple imputation procedure in order to address missing data problems using one widely used `R` package: multivariate imputation by chained equations (`mice`, van Buuren & Groothuis-Oudshoorn, 2011).\n",
    "\n",
    "### 0.2 Success Criteria\n",
    "At the end of this session, participants would gain *interest* and *confidence* in dealing with missing data in their work. \n",
    "\n",
    "### 0.3 Learning Structure"
   ]
  },
  {
   "cell_type": "markdown",
   "metadata": {},
   "source": [
    "## 1. Background\n",
    "\n",
    "### 1.1 Rationale for Multiple Imputation\n",
    "Complete-case analyses are only valid and unbiased under very restricted conditions (MCAR, defined below). Even when such condition holds, removing cases would cause huge loss in estimation efficiency. In addition, all resources and efforts may go to waste due to one single impurity in an observation. Multiple imputation tries to salvage imperfections by filling the \"holes\" with \"guesses\". The uncertainty of our guesses is reflected in the variation of the imputed values--the wider the variation, the less certain we are about our guesses.\n",
    "\n",
    "### 1.2 Two Approaches to Missing Data Treatment\n",
    "Joint modelling (JM, Schafter (1997); `R` package `jomo`) and fully conditional specification (FCS) are the two main approaches to missing data treatment. FCS is also known as multivariate imputation by chained equations (MICE). This session will focus exclusively on the `R` package `mice` by van Buuren and Groothuis-Oudshoorn (2011), currently in Version 3.14.0, to demonstrate the power and flexibility of the MICE procedure for handling missing data. Other `R` packages that work with missing data are `Amelia`, `Hmisc`, `jomo`, `mi`, `norm`, `norm2` and `pan`. See Table 5.1 of Kleinke et al. (2020) for a comparison of these packages. Table 6 of Grund et al. (2018) provides specific advice on package uses for multilevel models."
   ]
  },
  {
   "cell_type": "markdown",
   "metadata": {},
   "source": [
    "## 2. Data Missing Mechanism (Rubin, 1976)\n",
    "\n",
    "### 2.1 Missing Completely at Random (**MCAR**)\n",
    "\n",
    "### 2.2 Missing at Random (**MAR**)\n",
    "\n",
    "### 2.3 Missing not at Random (**MNAR**)\n",
    "\n",
    "### 2.4 Ignorability\n"
   ]
  },
  {
   "cell_type": "markdown",
   "metadata": {},
   "source": [
    "## 9 References\n",
    "van Buuren, S., & Groothuis-Oudshoorn, K. (2011). `mice`: Multivariate imputation by chained equations in `R`. Journal of Statistical\n",
    "Software, 45(3), 1–67. <https://doi.org/10.18637/jss.v045.i03>\n",
    "\n",
    "Grund, S., Lüdtke, O., & Robitzsch, A. (2018). Multiple imputation of missing data for multilevel models: Simulations and\n",
    "recommendations. Organizational Research Methods, 21(1), 111–149. <https://doi.org/10.1177/1094428117703686>\n",
    "\n",
    "Kleinke, K., Reinecke, J., Salfrán, D., & Spiess, M. (2020). Applied multiple imputation: Advantages, pitfalls, new developments and\n",
    "applications in `R`. Springer. <https://doi.org/10.1007/978-3-030-38164-6>\n",
    "\n",
    "Rose, N. (2013). Item nonresponses in educational and psychological measurement [PhD Thesis, Friedrich-Schiller-Universität\n",
    "Jena]. Open Access Thesis and Dissertations.\n",
    "<https://www.db-thueringen.de/servlets/MCRFileNodeServlet/dbt_derivate_00027809/Diss/NormanRose.pdf>\n",
    "\n",
    "Rubin, D. B. (1976). Inference and missing data. Biometrika, 63(3), 581–592. <https://doi.org/10.1093/biomet/63.3.581>\n",
    "\n",
    "Schafer, J. L. (1997). Analysis of incomplete multivariate data. Chapman & Hall; CRC."
   ]
  }
 ],
 "metadata": {
  "kernelspec": {
   "display_name": "R",
   "language": "R",
   "name": "ir"
  },
  "language_info": {
   "name": "R"
  },
  "orig_nbformat": 4
 },
 "nbformat": 4,
 "nbformat_minor": 2
}
