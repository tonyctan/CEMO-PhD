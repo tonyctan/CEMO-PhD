{
 "cells": [
  {
   "cell_type": "markdown",
   "metadata": {},
   "source": [
    "# Missing Data Treatment: A Hand-on Illustration using `R` Package `mice`\n",
    "\n",
    "<img src=\"/home/tony/uio/pc/Dokumenter/PhD/Teaching/UseR/Missing_Data/Figures/cat-mouse.jpg\" style=\"width:100%\">"
   ]
  },
  {
   "cell_type": "markdown",
   "metadata": {},
   "source": [
    "## 0. Overview\n",
    "\n",
    "### 0.1 Learning Intention\n",
    "This learning session aims to empower the `R` user community with a gentle introduction to the multiple imputation procedure in order to address missing data problems using one widely used `R` package: multivariate imputation by chained equations (`mice`, van Buuren & Groothuis-Oudshoorn, 2011).\n",
    "\n",
    "### 0.2 Success Criteria\n",
    "At the end of this session, participants would gain *interest* and *confidence* in dealing with missing data in their work.\n",
    "\n",
    "Learners would be, firstly, able to assess the missing data mechanism in their datasets and apply appropriate treatment procedures accordingly. They can subsequently appreciate the workflow of `mice` and see how Rubin's rule is applied to the pulling process. Finally, learners are able to interpret `mice` output in order to answer their research questions.\n",
    "\n",
    "Furthermore, participants would continue their learning by reaching out to advanced MI literature for techniques suitable for their specific modelling needs.\n",
    "\n",
    "### 0.3 Learning Structure"
   ]
  },
  {
   "cell_type": "markdown",
   "metadata": {},
   "source": [
    "## 1. Background\n",
    "\n",
    "### 1.1 Rationale for Multiple Imputation\n",
    "Complete-case analyses are only valid and unbiased under very restricted conditions (MCAR, defined below). Even when such condition holds, removing cases would cause huge loss in estimation efficiency. In addition, all resources and efforts may go to waste due to one single impurity in an observation. Multiple imputation tries to salvage imperfections by filling the \"holes\" with \"guesses\". The uncertainty of our guesses is reflected in the variation of the imputed values--the wider the variation, the less certain we are about our guesses.\n",
    "\n",
    "### 1.2 Two Approaches to Missing Data Treatment\n",
    "**Joint modelling** (JM, Schafter (1997); `R` package `jomo`) and **fully conditional specification** (FCS) are the two main approaches to missing data treatment. FCS is also known as multivariate imputation by chained equations (MICE). This session will focus exclusively on the `R` package `mice` by van Buuren and Groothuis-Oudshoorn (2011), currently in Version 3.14.0, to demonstrate the power and flexibility of the MICE procedure for handling missing data. Other `R` packages that work with missing data are `Amelia`, `Hmisc`, `jomo`, `mi`, `norm`, `norm2` and `pan`. See Table 5.1 of Kleinke et al. (2020) for a comparison of these packages. Table 6 of Grund et al. (2018) provides specific advice on package uses for multilevel models."
   ]
  },
  {
   "cell_type": "markdown",
   "metadata": {},
   "source": [
    "## 2. Data Missing Mechanism (Rubin, 1976)\n",
    "\n",
    "<img src=\"/home/tony/uio/pc/Dokumenter/PhD/Teaching/UseR/Missing_Data/Figures/mechanism.png\" style=\"width:100%\">\n",
    "\n",
    "### 2.1 Missing Completely at Random (**MCAR**)\n",
    "\n",
    "A variable's missing propensity is *independent* of all variables in the dataset.\n",
    "\n",
    "This is the \"least evil\" case of missings. Under MCAR, complete-case analyses are still valid and estimates unbiased--although efficiency is reduced due to smaller dataset.\n",
    "\n",
    "### 2.2 Missing at Random (**MAR**)\n",
    "\n",
    "A variable's missing propensity depends *exclusively* on the *observed* variables.\n",
    "\n",
    "The MAR assumption is behind most MI procedures, including `mice`.\n",
    "\n",
    "### 2.3 Missing not at Random (**MNAR**)\n",
    "\n",
    "A variable's missing propensity depends on *unobserved* variables.\n",
    "\n",
    "MNAR represents the \"most evil\" end of the spectrum. The exact theory and treatment of MNAR is complicated. Interested readers are referred to Rose's (2013) thesis for richer references. In practice, we can introduce lots of covariates to the MI process in order to push MNAR more towards the MAR region of the spectrum.\n",
    "\n",
    "### 2.4 Ignorability\n",
    "The missing data literature commonly refers to MCAR and MAR as \"ignorable missings\" while to MNAR as \"non-ignorable missings\". Such vocabulary does *not* suggest no treatment is required, however, but whether subsequent analyses interact with the data missing process."
   ]
  },
  {
   "cell_type": "markdown",
   "metadata": {},
   "source": [
    "## 3. The `mice` Package\n",
    "\n",
    "### 3.1 `mice` Workflow\n",
    "\n",
    "<img src=\"/home/tony/uio/pc/Dokumenter/PhD/Teaching/UseR/Missing_Data/Figures/workflow.jpg\" style=\"width:100%\">\n",
    "\n",
    "### 3.2 First Look at `mice`"
   ]
  },
  {
   "cell_type": "code",
   "execution_count": null,
   "metadata": {},
   "outputs": [],
   "source": [
    "# Install some packages\n",
    "# install.packages(c(\"mice\",\"VIM\"),dependencies = T)\n",
    "\n",
    "# Set working directory\n",
    "setwd(\"~/uio/pc/Dokumenter/PhD/Teaching/UseR/Missing_Data/\")\n",
    "\n",
    "# Load the mice package (suppress both warnings and messages)\n",
    "suppressWarnings(suppressMessages(library(mice)))\n",
    "\n",
    "# Use the example dataset nhanes (came with the package)\n",
    "nhanes\n",
    "\n",
    "# observations = 25, variables = 4\n",
    "# Variable names\n",
    "#    age     age group               ordered categorical\n",
    "#    bmi     body mass index         numerical\n",
    "#    hyp     hypertension status     binary\n",
    "#    chl     cholesterol level       numerical"
   ]
  },
  {
   "cell_type": "markdown",
   "metadata": {},
   "source": [
    "### 3.3 Missing Pattern Inspection\n",
    "\n",
    "There are two ways we can inspect missing data pattern: one is \"macro\" and the second one is more \"micro\":"
   ]
  },
  {
   "cell_type": "code",
   "execution_count": null,
   "metadata": {},
   "outputs": [],
   "source": [
    "# Inspect missing pattern (Method 1)\n",
    "md.pattern(nhanes)\n",
    "\n",
    "# Colour convention\n",
    "#   blue    observed\n",
    "#   red     missing\n",
    "# Interpretation\n",
    "#   13 rows are complete\n",
    "#   3 row that chl is missing\n",
    "#   1 row that bmi is missing\n",
    "#   1 row that both hyp and bmi are missing\n",
    "#   7 rows that only age is observed\n",
    "#   Total number of missing values = 3x1 + 1x1 + 1x2 + 7x3 = 27\n",
    "#   Most missing values (10) occur in chl"
   ]
  },
  {
   "cell_type": "code",
   "execution_count": null,
   "metadata": {},
   "outputs": [],
   "source": [
    "# Inspection by variable pairs (Method 2)\n",
    "md.pairs(nhanes)\n",
    "\n",
    "# Symbol convention (left, top)\n",
    "#   r   observed (remain?)\n",
    "#   m   missing\n",
    "\n",
    "# Interpretation (focus on (bmi, chl) pair)\n",
    "#   13 completely observed paris\n",
    "#   3 pairs: bmi is observed but chl is missing\n",
    "#   2 pairs: bmi is missing but chl is observed\n",
    "#   7 pairs: both bmi and chl are missing"
   ]
  },
  {
   "cell_type": "markdown",
   "metadata": {},
   "source": [
    "### 3.4 Margin Plot\n",
    "\n",
    "A very helpful way to visualise missing data pattern is through a margin plot, generated by the `VIM` package:"
   ]
  },
  {
   "cell_type": "code",
   "execution_count": null,
   "metadata": {},
   "outputs": [],
   "source": [
    "# Margin plot\n",
    "par(mar = c(7, 7, 3, 3)) # In order to show the axes labels\n",
    "# Inspect data range\n",
    "c(min(nhanes$chl, na.rm = T), max(nhanes$chl, na.rm = T)) # (113, 284)\n",
    "c(min(nhanes$bmi, na.rm = T), max(nhanes$bmi, na.rm = T)) # (20.4, 35.3)\n",
    "# Generate margin plot\n",
    "VIM::marginplot(nhanes[, c(\"chl\", \"bmi\")],\n",
    "    xlim = c(110, 290), ylim=c(20, 36),\n",
    "    col = mdc(1:2), pch = 19,\n",
    "    cex = 1.2, cex.lab = 1.2, cex.numbers = 1.3\n",
    ")\n",
    "\n",
    "# Interpretation\n",
    "#   red 9   variable bmi contains 9 missings\n",
    "#   red 10  variable chl contains 10 missings\n",
    "#   red 7   The variable pair (bmi, chl) contains 7 missings\n",
    "#   three red dots on the left: bmi values are known but chl missing\n",
    "#   two red dots on the bottom: chl values are known but bmi missing\n",
    "#   red dot cross between bmi and chl actually represents 7 dots\n",
    "#   Total # dots = 13 (blue) + 3 (red left) + 2 (red bottom) + 7 (red cross)\n",
    "#   Box plots: marginal distributions (blue = obs, red = mis)\n",
    "#   If MCAR => red and blue box plots are expected to be identical"
   ]
  },
  {
   "cell_type": "markdown",
   "metadata": {},
   "source": [
    "### 3.5 Impute Missing Data\n",
    "\n",
    "We can now generate our first imputation using `mice`, accepting all defult settings:"
   ]
  },
  {
   "cell_type": "code",
   "execution_count": null,
   "metadata": {},
   "outputs": [],
   "source": [
    "imp <- mice(nhanes, printFlag = F, seed = 23109)\n",
    "# The multiply imputed dataset, imp, is of class mids (MI data set)\n",
    "print(imp)"
   ]
  },
  {
   "cell_type": "markdown",
   "metadata": {},
   "source": [
    "### 3.6 Diagnostic Checking\n",
    "\n",
    "It is important to check that the imputed data indeed make sense:"
   ]
  },
  {
   "cell_type": "code",
   "execution_count": null,
   "metadata": {},
   "outputs": [],
   "source": [
    "# Recall that bmi contains 9 missings\n",
    "# The MI procedure produced five guesses for each missing:\n",
    "imp$imp$bmi"
   ]
  },
  {
   "cell_type": "code",
   "execution_count": null,
   "metadata": {},
   "outputs": [],
   "source": [
    "# The 1st complete dataset combines the observed and imputed values:\n",
    "complete(imp)"
   ]
  },
  {
   "cell_type": "code",
   "execution_count": null,
   "metadata": {},
   "outputs": [],
   "source": [
    "# We can print out the 2nd set of the complete dataset\n",
    "complete(imp, 2)\n",
    "# If complete to start with => identical in all five sets\n",
    "# If missing to start with => differ in each set\n",
    "# Degree of difference reflects degree of uncertainty"
   ]
  },
  {
   "cell_type": "markdown",
   "metadata": {},
   "source": [
    "### 3.7 MI Visual Inspection\n",
    "\n",
    "Similar to Section 3.3, the reasonableness of the MI procedure can be inspected visually using two plots:"
   ]
  },
  {
   "cell_type": "code",
   "execution_count": null,
   "metadata": {},
   "outputs": [],
   "source": [
    "# Visual inspection (big picture)\n",
    "stripplot(imp, pch = 20, cex = 1.2)\n",
    "# Colour convention\n",
    "#   blue    observed\n",
    "#   red     imputed\n",
    "# Each x-axis marker is one version of MI. 0 = original set\n",
    "# Red points follow the blue points reasonably well, including the gaps in the distribution."
   ]
  },
  {
   "cell_type": "code",
   "execution_count": null,
   "metadata": {},
   "outputs": [],
   "source": [
    "# Visual inspection (fine details)\n",
    "xyplot(imp, bmi ~ chl | .imp, pch = 20, cex = 1.4)\n",
    "# Red points have more or less the same shape as blue data => imputed data could have been plausible measurements if they had not been missing\n",
    "# Differences between the red points represents uncertainty about the true, but unkown, values"
   ]
  },
  {
   "cell_type": "markdown",
   "metadata": {},
   "source": [
    "### 3.8 Analysing Imputed Datasets\n",
    "\n",
    "With all the \"holes\" now being filled, we can apply our familiar analyses to the \"restored\" datasets. Fortunately, `mice` will automate the analyses for us (`with` function) and pool the results together using Rubin's rule (`pool` function):"
   ]
  },
  {
   "cell_type": "code",
   "execution_count": null,
   "metadata": {},
   "outputs": [],
   "source": [
    "# Original regression: lm(chl ~ age + bmi)\n",
    "# Repeat this analysis to each version of MI\n",
    "fit <- with(data = imp, exp = lm(chl ~ age + bmi))\n",
    "# Pool the multiple versions of the analyses together\n",
    "summary(pool(fit))\n",
    "# Both age and bmi are significant at .05 level"
   ]
  },
  {
   "cell_type": "code",
   "execution_count": null,
   "metadata": {},
   "outputs": [],
   "source": [
    "# If we increase m, the number of imputations, significant levels may change\n",
    "summary(pool(with(\n",
    "    mice(nhanes, m = 10, printFlag = F, seed = 23109), # order 10 sets of MI\n",
    "    lm(chl ~ age + bmi)\n",
    "))) # More significant"
   ]
  },
  {
   "cell_type": "markdown",
   "metadata": {},
   "source": [
    "## 4. Fine Tuning `mice`"
   ]
  },
  {
   "cell_type": "markdown",
   "metadata": {},
   "source": [
    "## 9. References\n",
    "van Buuren, S., & Groothuis-Oudshoorn, K. (2011). `mice`: Multivariate imputation by chained equations in `R`. Journal of Statistical\n",
    "Software, 45(3), 1–67. <https://doi.org/10.18637/jss.v045.i03>\n",
    "\n",
    "Grund, S., Lüdtke, O., & Robitzsch, A. (2018). Multiple imputation of missing data for multilevel models: Simulations and\n",
    "recommendations. Organizational Research Methods, 21(1), 111–149. <https://doi.org/10.1177/1094428117703686>\n",
    "\n",
    "Kleinke, K., Reinecke, J., Salfrán, D., & Spiess, M. (2020). Applied multiple imputation: Advantages, pitfalls, new developments and\n",
    "applications in `R`. Springer. <https://doi.org/10.1007/978-3-030-38164-6>\n",
    "\n",
    "Rose, N. (2013). Item nonresponses in educational and psychological measurement [PhD Thesis, Friedrich-Schiller-Universität\n",
    "Jena]. Open Access Thesis and Dissertations.\n",
    "<https://www.db-thueringen.de/servlets/MCRFileNodeServlet/dbt_derivate_00027809/Diss/NormanRose.pdf>\n",
    "\n",
    "Rubin, D. B. (1976). Inference and missing data. Biometrika, 63(3), 581–592. <https://doi.org/10.1093/biomet/63.3.581>\n",
    "\n",
    "Schafer, J. L. (1997). Analysis of incomplete multivariate data. Chapman & Hall; CRC."
   ]
  }
 ],
 "metadata": {
  "kernelspec": {
   "display_name": "R",
   "language": "R",
   "name": "ir"
  },
  "language_info": {
   "codemirror_mode": "r",
   "file_extension": ".r",
   "mimetype": "text/x-r-source",
   "name": "R",
   "pygments_lexer": "r",
   "version": "4.1.2"
  },
  "orig_nbformat": 4
 },
 "nbformat": 4,
 "nbformat_minor": 2
}
