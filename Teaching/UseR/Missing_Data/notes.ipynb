{
 "cells": [
  {
   "cell_type": "markdown",
   "metadata": {},
   "source": [
    "# Missing Data Treatment: A Hand-on Illustration using `R` Package `mice`\n",
    "\n",
    "<img src=\"/home/tony/uio/pc/Dokumenter/PhD/Teaching/UseR/Missing_Data/Figures/cat-mouse.jpg\" style=\"width:100%\">"
   ]
  },
  {
   "cell_type": "markdown",
   "metadata": {},
   "source": [
    "## 0. Overview\n",
    "\n",
    "### 0.1 Learning Intention\n",
    "This learning session aims to empower the `R` user community with a gentle introduction to the multiple imputation (MI) procedure in order to address missing data problems using one widely used `R` package: multivariate imputation by chained equations (`mice`, van Buuren & Groothuis-Oudshoorn, 2011).\n",
    "\n",
    "### 0.2 Success Criteria\n",
    "At the end of this session, participants would gain *interest* and *confidence* in dealing with missing data in their work.\n",
    "\n",
    "Learners would be, firstly, able to assess the missing data mechanism in their datasets and apply appropriate treatment procedures accordingly. Additionally, they can appreciate the workflow of the `mice` package and see how Rubin's rule is applied to the pulling process. Finally, learners are able to interpret `mice` output in order to answer their research questions.\n",
    "\n",
    "Furthermore, participants would continue their learning by reaching out to advanced MI literature for techniques suitable for their specific modelling needs.\n",
    "\n",
    "### 0.3 Learning Structure"
   ]
  },
  {
   "cell_type": "markdown",
   "metadata": {},
   "source": [
    "## 1. Background\n",
    "\n",
    "### 1.1 Rationale for Multiple Imputation\n",
    "Complete-case analyses are only valid and unbiased under very restricted conditions (MCAR, defined below). Even when such condition holds, removing cases would cause huge loss in estimation efficiency. In addition, all resources and efforts may go to waste due to one single impurity in an observation. Multiple imputation tries to salvage imperfections by filling the \"holes\" with \"guesses\". The uncertainty of our guesses is reflected in the variation of the imputed values--the wider the variation, the less certain we are about our guesses.\n",
    "\n",
    "### 1.2 Two Approaches to Missing Data Treatment\n",
    "**Joint modelling** (JM, Schafter (1997); `R` package `jomo`) and **fully conditional specification** (FCS) are the two main approaches to missing data treatment. FCS is also known as multivariate imputation by chained equations (MICE). This session will focus exclusively on the `R` package `mice` by van Buuren and Groothuis-Oudshoorn (2011), currently in Version 3.14.0, to demonstrate the power and flexibility of the MICE procedure for handling missing data. Other `R` packages that work with missing data are `Amelia`, `Hmisc`, `jomo`, `mi`, `norm`, `norm2` and `pan`. See Table 5.1 of Kleinke et al. (2020) for a comparison of these packages. Table 6 of Grund et al. (2018) provides specific advice on package uses for multilevel models."
   ]
  },
  {
   "cell_type": "markdown",
   "metadata": {},
   "source": [
    "## 2. Data Missing Mechanism (Rubin, 1976)\n",
    "\n",
    "<img src=\"/home/tony/uio/pc/Dokumenter/PhD/Teaching/UseR/Missing_Data/Figures/mechanism.png\" style=\"width:100%\">\n",
    "\n",
    "### 2.1 Missing Completely at Random (**MCAR**)\n",
    "\n",
    "A variable's missing propensity is *independent* of all variables in the dataset.\n",
    "\n",
    "This is the \"least evil\" case of missings. Under MCAR, complete-case analyses are still valid and estimates unbiased--although efficiency is reduced due to smaller dataset.\n",
    "\n",
    "### 2.2 Missing at Random (**MAR**)\n",
    "\n",
    "A variable's missing propensity depends *exclusively* on the *observed* variables.\n",
    "\n",
    "The MAR assumption is behind most MI procedures, including `mice`.\n",
    "\n",
    "### 2.3 Missing not at Random (**MNAR**)\n",
    "\n",
    "A variable's missing propensity depends on *unobserved* variables.\n",
    "\n",
    "MNAR represents the \"most evil\" end of the spectrum. The exact theory and treatment of MNAR is complicated. Interested readers are referred to Rose's (2013) thesis for richer references. In practice, we can introduce lots of covariates to the MI process in order to push MNAR more towards the MAR region of the spectrum.\n",
    "\n",
    "### 2.4 Ignorability\n",
    "The missing data literature commonly refers to MCAR and MAR as \"ignorable missings\" while to MNAR as \"non-ignorable missings\". Such vocabulary does *not* suggest no treatment is required, however, but whether subsequent analyses interact with the data missing process."
   ]
  },
  {
   "cell_type": "markdown",
   "metadata": {},
   "source": [
    "## 3. The `mice` Package\n",
    "\n",
    "### 3.1 `mice` Workflow\n",
    "\n",
    "<img src=\"/home/tony/uio/pc/Dokumenter/PhD/Teaching/UseR/Missing_Data/Figures/workflow.jpg\" style=\"width:100%\">\n",
    "\n",
    "### 3.2 First Look at `mice`"
   ]
  },
  {
   "cell_type": "code",
   "execution_count": null,
   "metadata": {},
   "outputs": [],
   "source": [
    "# Install some packages\n",
    "# install.packages(c(\"mice\",\"VIM\"),dependencies = T)\n",
    "\n",
    "# Set working directory\n",
    "setwd(\"~/uio/pc/Dokumenter/PhD/Teaching/UseR/Missing_Data/\")\n",
    "\n",
    "# Load the mice package (suppress both warnings and messages)\n",
    "suppressWarnings(suppressMessages(library(mice)))\n",
    "\n",
    "# Use the example dataset nhanes (came with the package)\n",
    "nhanes\n",
    "\n",
    "# observations = 25, variables = 4\n",
    "# Variable names\n",
    "#    age     age group               ordered categorical\n",
    "#    bmi     body mass index         numerical\n",
    "#    hyp     hypertension status     binary\n",
    "#    chl     cholesterol level       numerical"
   ]
  },
  {
   "cell_type": "markdown",
   "metadata": {},
   "source": [
    "### 3.3 Missing Pattern Inspection\n",
    "\n",
    "There are two ways we can inspect missing data patterns: a \"macro\" inspection looks at the whole dataset whereas the \"micro\" inspections examine each variable pairs:"
   ]
  },
  {
   "cell_type": "code",
   "execution_count": null,
   "metadata": {},
   "outputs": [],
   "source": [
    "# Inspect missing pattern (Method 1)\n",
    "md.pattern(nhanes)\n",
    "\n",
    "# Colour convention\n",
    "#   blue    observed\n",
    "#   red     missing\n",
    "# Interpretation\n",
    "#   13 rows are complete\n",
    "#   3 row that chl is missing\n",
    "#   1 row that bmi is missing\n",
    "#   1 row that both hyp and bmi are missing\n",
    "#   7 rows that only age is observed\n",
    "#   Total number of missing values = 3x1 + 1x1 + 1x2 + 7x3 = 27\n",
    "#   Most missing values (10) occur in chl"
   ]
  },
  {
   "cell_type": "code",
   "execution_count": null,
   "metadata": {},
   "outputs": [],
   "source": [
    "# Inspection by variable pairs (Method 2)\n",
    "md.pairs(nhanes)\n",
    "\n",
    "# Symbol convention (left, top)\n",
    "#   r   observed (remain?)\n",
    "#   m   missing\n",
    "\n",
    "# Interpretation (focus on (bmi, chl) pair)\n",
    "#   13 completely observed paris\n",
    "#   3 pairs: bmi is observed but chl is missing\n",
    "#   2 pairs: bmi is missing but chl is observed\n",
    "#   7 pairs: both bmi and chl are missing"
   ]
  },
  {
   "cell_type": "markdown",
   "metadata": {},
   "source": [
    "### 3.4 Margin Plot\n",
    "\n",
    "A very helpful way to visualise missing data pattern is through a margin plot for each variable pair, generated by the `VIM` package:"
   ]
  },
  {
   "cell_type": "code",
   "execution_count": null,
   "metadata": {},
   "outputs": [],
   "source": [
    "# Margin plot\n",
    "par(mar = c(7, 7, 3, 3)) # In order to show the axes labels\n",
    "# Inspect data range\n",
    "c(min(nhanes$chl, na.rm = T), max(nhanes$chl, na.rm = T)) # (113, 284)\n",
    "c(min(nhanes$bmi, na.rm = T), max(nhanes$bmi, na.rm = T)) # (20.4, 35.3)\n",
    "# Generate margin plot\n",
    "VIM::marginplot(nhanes[, c(\"chl\", \"bmi\")],\n",
    "    xlim = c(110, 290), ylim=c(20, 36),\n",
    "    col = mdc(1:2), pch = 19,\n",
    "    cex = 1.2, cex.lab = 1.2, cex.numbers = 1.3\n",
    ")\n",
    "\n",
    "# Interpretation\n",
    "#   red 9   variable bmi contains 9 missings\n",
    "#   red 10  variable chl contains 10 missings\n",
    "#   red 7   The variable pair (bmi, chl) contains 7 missings\n",
    "#   three red dots on the left: bmi values are known but chl missing\n",
    "#   two red dots on the bottom: chl values are known but bmi missing\n",
    "#   red dot cross between bmi and chl actually represents 7 dots\n",
    "#   Total # dots = 13 (blue) + 3 (red left) + 2 (red bottom) + 7 (red cross)\n",
    "#   Box plots: marginal distributions (blue = obs, red = mis)\n",
    "#   If MCAR => red and blue box plots are expected to be identical"
   ]
  },
  {
   "cell_type": "markdown",
   "metadata": {},
   "source": [
    "### 3.5 Impute Missing Data\n",
    "\n",
    "We can now generate our first imputation using `mice`, accepting all defult settings:"
   ]
  },
  {
   "cell_type": "code",
   "execution_count": null,
   "metadata": {},
   "outputs": [],
   "source": [
    "imp <- mice(nhanes, printFlag = F, seed = 23109)\n",
    "# The multiply imputed dataset, imp, is of class mids (MI data set)\n",
    "print(imp)"
   ]
  },
  {
   "cell_type": "markdown",
   "metadata": {},
   "source": [
    "### 3.6 Diagnostic Checking\n",
    "\n",
    "It is important to check that the imputed data indeed make sense:"
   ]
  },
  {
   "cell_type": "code",
   "execution_count": null,
   "metadata": {},
   "outputs": [],
   "source": [
    "# Recall that bmi contains 9 missings\n",
    "# The MI procedure produced five guesses for each missing:\n",
    "imp$imp$bmi"
   ]
  },
  {
   "cell_type": "code",
   "execution_count": null,
   "metadata": {},
   "outputs": [],
   "source": [
    "# The 1st complete dataset combines the observed and imputed values:\n",
    "complete(imp)"
   ]
  },
  {
   "cell_type": "code",
   "execution_count": null,
   "metadata": {},
   "outputs": [],
   "source": [
    "# We can print out the 2nd set of the complete dataset\n",
    "complete(imp, 2)\n",
    "# If complete to start with => identical in all five sets\n",
    "# If missing to start with => differ in each set\n",
    "# Degree of difference reflects degree of uncertainty"
   ]
  },
  {
   "cell_type": "markdown",
   "metadata": {},
   "source": [
    "### 3.7 MI Visual Inspection\n",
    "\n",
    "Similar to Section 3.3, the reasonableness of the MI procedure can be inspected visually using two plots:"
   ]
  },
  {
   "cell_type": "code",
   "execution_count": null,
   "metadata": {},
   "outputs": [],
   "source": [
    "# Visual inspection (big picture)\n",
    "stripplot(imp, pch = 20, cex = 1.2)\n",
    "# Colour convention\n",
    "#   blue    observed\n",
    "#   red     imputed\n",
    "# Each x-axis marker is one version of MI. 0 = original set\n",
    "# Red points follow the blue points reasonably well, including the gaps in the distribution."
   ]
  },
  {
   "cell_type": "code",
   "execution_count": null,
   "metadata": {},
   "outputs": [],
   "source": [
    "# Visual inspection (fine details)\n",
    "xyplot(imp, bmi ~ chl | .imp, pch = 20, cex = 1.4)\n",
    "# Red points have more or less the same shape as blue data => imputed data could have been plausible measurements if they had not been missing\n",
    "# Differences between the red points represents uncertainty about the true, but unkown, values"
   ]
  },
  {
   "cell_type": "markdown",
   "metadata": {},
   "source": [
    "### 3.8 Analysing Imputed Datasets\n",
    "\n",
    "With all the \"holes\" now being filled, we can apply our familiar analyses to the \"restored\" datasets. Fortunately, `mice` will automate the analyses for us (`with` function) and pool the results together using Rubin's rule (`pool` function):"
   ]
  },
  {
   "cell_type": "code",
   "execution_count": null,
   "metadata": {},
   "outputs": [],
   "source": [
    "# Original regression: lm(chl ~ age + bmi)\n",
    "# Repeat this analysis to each version of MI\n",
    "fit <- with(data = imp, exp = lm(chl ~ age + bmi))\n",
    "# Pool the multiple versions of the analyses together\n",
    "summary(pool(fit))\n",
    "# Both age and bmi are significant at .05 level"
   ]
  },
  {
   "cell_type": "code",
   "execution_count": null,
   "metadata": {},
   "outputs": [],
   "source": [
    "# If we increase m, the number of imputations, significant levels may change\n",
    "summary(pool(with(\n",
    "    mice(nhanes, m = 10, printFlag = F, seed = 23109), # order 10 sets of MI\n",
    "    lm(chl ~ age + bmi)\n",
    "))) # More significant"
   ]
  },
  {
   "cell_type": "markdown",
   "metadata": {},
   "source": [
    "## 4. Fine Tuning `mice`\n",
    "\n",
    "### 4.1 Specify Imputation Methods\n",
    "\n",
    "So far, we have been using `mice` as a black box. We now would like to know what default settings `mice` uses and how different types of data are treated:\n",
    "\n",
    "<img src=\"/home/tony/uio/pc/Dokumenter/PhD/Teaching/UseR/Missing_Data/Figures/methods.jpg\" style=\"width:100%\">\n",
    "\n",
    "We are free to specify different imputation methods, depending on our data type, theory and prior practice:"
   ]
  },
  {
   "cell_type": "code",
   "execution_count": null,
   "metadata": {},
   "outputs": [],
   "source": [
    "summary(pool(with(\n",
    "    mice(nhanes,\n",
    "        method = c(\"\", \"norm\", \"pmm\", \"mean\"), # Specify MI method for each var\n",
    "        m = 10, printFlag = F, seed = 23109\n",
    "    ),\n",
    "    lm(chl ~ age + bmi)\n",
    ")))"
   ]
  },
  {
   "cell_type": "markdown",
   "metadata": {},
   "source": [
    "We can declare, say, Bayesian linear regression (`norm`), as the default MI method for all variables:"
   ]
  },
  {
   "cell_type": "code",
   "execution_count": null,
   "metadata": {},
   "outputs": [],
   "source": [
    "summary(pool(with(\n",
    "    mice(nhanes,\n",
    "        method = \"norm\", # Use norm MI method for all variables\n",
    "        m = 10, printFlag = F, seed = 23109\n",
    "    ),\n",
    "    lm(chl ~ age + bmi)\n",
    ")))"
   ]
  },
  {
   "cell_type": "markdown",
   "metadata": {},
   "source": [
    "If undeclared by the user, `mice` will attempt to determine the most appropriate MI methods based on the data type of each variable:"
   ]
  },
  {
   "cell_type": "code",
   "execution_count": null,
   "metadata": {},
   "outputs": [],
   "source": [
    "str(nhanes2)\n",
    "\n",
    "# Data type\n",
    "#   age     factor, 3 levels\n",
    "#   bmi     numeric\n",
    "#   hyp     factor, 2 levels\n",
    "#   chl     numeric"
   ]
  },
  {
   "cell_type": "markdown",
   "metadata": {},
   "source": [
    "One sensible set of MI methods could be:"
   ]
  },
  {
   "cell_type": "code",
   "execution_count": null,
   "metadata": {},
   "outputs": [],
   "source": [
    "summary(pool(with(\n",
    "    mice(nhanes2,\n",
    "        me = c(\"polyreg\", \"pmm\", \"logreg\", \"norm\"), # me = method\n",
    "        m = 10, printFlag = F, seed = 23109\n",
    "    ),\n",
    "    lm(chl ~ age + bmi)\n",
    ")))"
   ]
  },
  {
   "cell_type": "markdown",
   "metadata": {},
   "source": [
    "### 4.2 Empty Imputation Method\n",
    "\n",
    "`mice` automatically skips variables containing no missings. If we wish to skip variables with missings, tell `mice` by setting `method = \"\"` for that variable:"
   ]
  },
  {
   "cell_type": "code",
   "execution_count": null,
   "metadata": {},
   "outputs": [],
   "source": [
    "imp <- mice(nhanes2,\n",
    "    me = c(\"\", \"\", \"logreg\", \"norm\"), # skip age and bmi\n",
    "    m = 10, printFlag = F, seed = 23109\n",
    ")"
   ]
  },
  {
   "cell_type": "markdown",
   "metadata": {},
   "source": [
    "### 4.3 Predictor Selection\n",
    "\n",
    "One of the most useful features of the MICE algorithm is the ability to specify the set of predictors to be used for each incomplete variable. The default setting of the predictor matrix specifies that all variables predict all others."
   ]
  },
  {
   "cell_type": "code",
   "execution_count": null,
   "metadata": {},
   "outputs": [],
   "source": [
    "imp <- mice(nhanes, print = F) # printFlag = print = pri\n",
    "imp$predictorMatrix\n",
    "head(complete(imp))\n",
    "\n",
    "# Col = predictor; Row = target variable\n",
    "# bmi is predicted from age, hyp and chl\n"
   ]
  },
  {
   "cell_type": "markdown",
   "metadata": {},
   "source": [
    "We can tell `mice` not to impute `age` because it is completely observed and to never use `bmi` as a predictor for other target variables because we consider it irrelevant:"
   ]
  },
  {
   "cell_type": "code",
   "execution_count": null,
   "metadata": {},
   "outputs": [],
   "source": [
    "pred <- imp$predictorMatrix\n",
    "pred[\"age\", ] <- 0 # Set age row to zero (remove target)\n",
    "pred[, \"bmi\"] <- 0 # Set bmi col to zero (remove predictor)\n",
    "pred\n",
    "imp <- mice(nhanes, pred = pred, pri = F)\n",
    "head(complete(imp))"
   ]
  },
  {
   "cell_type": "markdown",
   "metadata": {},
   "source": [
    "### 4.4 Skipping Imputation\n",
    "\n",
    "We can skip imputation of, say, `bmi` and leave it as it is. This can be achieved by:\n",
    "1. eliminating `bmi` from the predictor set (Section 4.3), AND\n",
    "2. setting the imputation method to \"\" (Section 4.2)"
   ]
  },
  {
   "cell_type": "code",
   "execution_count": null,
   "metadata": {},
   "outputs": [],
   "source": [
    "ini <- mice(nhanes2, maxit = 0, pri = F) # Run an empty MI by setting maxit = 0\n",
    "# Step 1\n",
    "pred <- ini$pred\n",
    "pred[, \"bmi\"] <- 0\n",
    "# Step 2\n",
    "meth <- ini$meth\n",
    "meth[\"bmi\"] <- \"\"\n",
    "# MI\n",
    "imp <- mice(nhanes2, meth = meth, pred = pred, pri = F)\n",
    "imp$imp$bmi"
   ]
  },
  {
   "cell_type": "markdown",
   "metadata": {},
   "source": [
    "### 4.5 Intercept-only Imputation (Only if MCAR!)\n",
    "\n",
    "We can impute, say, `bmi` without using any predictors. Imputation are now sampled by `mice.impute.pmm()` under the intercept-only model. Note that these imputations are appropriate only under the MCAR assumption."
   ]
  },
  {
   "cell_type": "code",
   "execution_count": null,
   "metadata": {},
   "outputs": [],
   "source": [
    "pred <- ini$pred\n",
    "pred[\"bmi\", ] <- 0 # Set bmi row to zero (remove target)\n",
    "imp <- mice(nhanes2, pred = pred, pri = F, seed = 51162)\n",
    "imp$imp$bmi"
   ]
  },
  {
   "cell_type": "markdown",
   "metadata": {},
   "source": [
    "### 4.6 Multilevel Imputation\n",
    "\n",
    "In order to impute hierarchical data, we need to specify the class variable (code `-2`), fixed effect (code `1`) and random effect (code `2`). We use Hox's (2002) popularity data as an example:"
   ]
  },
  {
   "cell_type": "code",
   "execution_count": 62,
   "metadata": {},
   "outputs": [
    {
     "data": {
      "text/html": [
       "<table class=\"dataframe\">\n",
       "<caption>A data.frame: 6 × 7</caption>\n",
       "<thead>\n",
       "\t<tr><th></th><th scope=col>pupil</th><th scope=col>school</th><th scope=col>popular</th><th scope=col>sex</th><th scope=col>texp</th><th scope=col>const</th><th scope=col>teachpop</th></tr>\n",
       "\t<tr><th></th><th scope=col>&lt;int&gt;</th><th scope=col>&lt;int&gt;</th><th scope=col>&lt;int&gt;</th><th scope=col>&lt;int&gt;</th><th scope=col>&lt;int&gt;</th><th scope=col>&lt;int&gt;</th><th scope=col>&lt;int&gt;</th></tr>\n",
       "</thead>\n",
       "<tbody>\n",
       "\t<tr><th scope=row>1</th><td>1</td><td>1</td><td>NA</td><td>1</td><td>24</td><td>1</td><td>7</td></tr>\n",
       "\t<tr><th scope=row>2</th><td>2</td><td>1</td><td>NA</td><td>0</td><td>24</td><td>1</td><td>7</td></tr>\n",
       "\t<tr><th scope=row>3</th><td>3</td><td>1</td><td> 7</td><td>1</td><td>24</td><td>1</td><td>6</td></tr>\n",
       "\t<tr><th scope=row>4</th><td>4</td><td>1</td><td>NA</td><td>1</td><td>24</td><td>1</td><td>6</td></tr>\n",
       "\t<tr><th scope=row>5</th><td>5</td><td>1</td><td>NA</td><td>1</td><td>24</td><td>1</td><td>7</td></tr>\n",
       "\t<tr><th scope=row>6</th><td>6</td><td>1</td><td> 7</td><td>0</td><td>24</td><td>1</td><td>7</td></tr>\n",
       "</tbody>\n",
       "</table>\n"
      ],
      "text/latex": [
       "A data.frame: 6 × 7\n",
       "\\begin{tabular}{r|lllllll}\n",
       "  & pupil & school & popular & sex & texp & const & teachpop\\\\\n",
       "  & <int> & <int> & <int> & <int> & <int> & <int> & <int>\\\\\n",
       "\\hline\n",
       "\t1 & 1 & 1 & NA & 1 & 24 & 1 & 7\\\\\n",
       "\t2 & 2 & 1 & NA & 0 & 24 & 1 & 7\\\\\n",
       "\t3 & 3 & 1 &  7 & 1 & 24 & 1 & 6\\\\\n",
       "\t4 & 4 & 1 & NA & 1 & 24 & 1 & 6\\\\\n",
       "\t5 & 5 & 1 & NA & 1 & 24 & 1 & 7\\\\\n",
       "\t6 & 6 & 1 &  7 & 0 & 24 & 1 & 7\\\\\n",
       "\\end{tabular}\n"
      ],
      "text/markdown": [
       "\n",
       "A data.frame: 6 × 7\n",
       "\n",
       "| <!--/--> | pupil &lt;int&gt; | school &lt;int&gt; | popular &lt;int&gt; | sex &lt;int&gt; | texp &lt;int&gt; | const &lt;int&gt; | teachpop &lt;int&gt; |\n",
       "|---|---|---|---|---|---|---|---|\n",
       "| 1 | 1 | 1 | NA | 1 | 24 | 1 | 7 |\n",
       "| 2 | 2 | 1 | NA | 0 | 24 | 1 | 7 |\n",
       "| 3 | 3 | 1 |  7 | 1 | 24 | 1 | 6 |\n",
       "| 4 | 4 | 1 | NA | 1 | 24 | 1 | 6 |\n",
       "| 5 | 5 | 1 | NA | 1 | 24 | 1 | 7 |\n",
       "| 6 | 6 | 1 |  7 | 0 | 24 | 1 | 7 |\n",
       "\n"
      ],
      "text/plain": [
       "  pupil school popular sex texp const teachpop\n",
       "1 1     1      NA      1   24   1     7       \n",
       "2 2     1      NA      0   24   1     7       \n",
       "3 3     1       7      1   24   1     6       \n",
       "4 4     1      NA      1   24   1     6       \n",
       "5 5     1      NA      1   24   1     7       \n",
       "6 6     1       7      0   24   1     7       "
      ]
     },
     "metadata": {},
     "output_type": "display_data"
    },
    {
     "data": {
      "text/html": [
       "<table class=\"dataframe\">\n",
       "<caption>A data.frame: 6 × 7</caption>\n",
       "<thead>\n",
       "\t<tr><th></th><th scope=col>pupil</th><th scope=col>school</th><th scope=col>popular</th><th scope=col>sex</th><th scope=col>texp</th><th scope=col>const</th><th scope=col>teachpop</th></tr>\n",
       "\t<tr><th></th><th scope=col>&lt;int&gt;</th><th scope=col>&lt;int&gt;</th><th scope=col>&lt;dbl&gt;</th><th scope=col>&lt;int&gt;</th><th scope=col>&lt;int&gt;</th><th scope=col>&lt;int&gt;</th><th scope=col>&lt;int&gt;</th></tr>\n",
       "</thead>\n",
       "<tbody>\n",
       "\t<tr><th scope=row>1</th><td>1</td><td>1</td><td>8.483879</td><td>1</td><td>24</td><td>1</td><td>7</td></tr>\n",
       "\t<tr><th scope=row>2</th><td>2</td><td>1</td><td>7.646901</td><td>0</td><td>24</td><td>1</td><td>7</td></tr>\n",
       "\t<tr><th scope=row>3</th><td>3</td><td>1</td><td>7.000000</td><td>1</td><td>24</td><td>1</td><td>6</td></tr>\n",
       "\t<tr><th scope=row>4</th><td>4</td><td>1</td><td>8.400386</td><td>1</td><td>24</td><td>1</td><td>6</td></tr>\n",
       "\t<tr><th scope=row>5</th><td>5</td><td>1</td><td>7.892165</td><td>1</td><td>24</td><td>1</td><td>7</td></tr>\n",
       "\t<tr><th scope=row>6</th><td>6</td><td>1</td><td>7.000000</td><td>0</td><td>24</td><td>1</td><td>7</td></tr>\n",
       "</tbody>\n",
       "</table>\n"
      ],
      "text/latex": [
       "A data.frame: 6 × 7\n",
       "\\begin{tabular}{r|lllllll}\n",
       "  & pupil & school & popular & sex & texp & const & teachpop\\\\\n",
       "  & <int> & <int> & <dbl> & <int> & <int> & <int> & <int>\\\\\n",
       "\\hline\n",
       "\t1 & 1 & 1 & 8.483879 & 1 & 24 & 1 & 7\\\\\n",
       "\t2 & 2 & 1 & 7.646901 & 0 & 24 & 1 & 7\\\\\n",
       "\t3 & 3 & 1 & 7.000000 & 1 & 24 & 1 & 6\\\\\n",
       "\t4 & 4 & 1 & 8.400386 & 1 & 24 & 1 & 6\\\\\n",
       "\t5 & 5 & 1 & 7.892165 & 1 & 24 & 1 & 7\\\\\n",
       "\t6 & 6 & 1 & 7.000000 & 0 & 24 & 1 & 7\\\\\n",
       "\\end{tabular}\n"
      ],
      "text/markdown": [
       "\n",
       "A data.frame: 6 × 7\n",
       "\n",
       "| <!--/--> | pupil &lt;int&gt; | school &lt;int&gt; | popular &lt;dbl&gt; | sex &lt;int&gt; | texp &lt;int&gt; | const &lt;int&gt; | teachpop &lt;int&gt; |\n",
       "|---|---|---|---|---|---|---|---|\n",
       "| 1 | 1 | 1 | 8.483879 | 1 | 24 | 1 | 7 |\n",
       "| 2 | 2 | 1 | 7.646901 | 0 | 24 | 1 | 7 |\n",
       "| 3 | 3 | 1 | 7.000000 | 1 | 24 | 1 | 6 |\n",
       "| 4 | 4 | 1 | 8.400386 | 1 | 24 | 1 | 6 |\n",
       "| 5 | 5 | 1 | 7.892165 | 1 | 24 | 1 | 7 |\n",
       "| 6 | 6 | 1 | 7.000000 | 0 | 24 | 1 | 7 |\n",
       "\n"
      ],
      "text/plain": [
       "  pupil school popular  sex texp const teachpop\n",
       "1 1     1      8.483879 1   24   1     7       \n",
       "2 2     1      7.646901 0   24   1     7       \n",
       "3 3     1      7.000000 1   24   1     6       \n",
       "4 4     1      8.400386 1   24   1     6       \n",
       "5 5     1      7.892165 1   24   1     7       \n",
       "6 6     1      7.000000 0   24   1     7       "
      ]
     },
     "metadata": {},
     "output_type": "display_data"
    }
   ],
   "source": [
    "# Inspect original data\n",
    "head(popmis)\n",
    "\n",
    "# Extract predictor matrix\n",
    "suppressWarnings(suppressMessages(\n",
    "    ini <- mice(popmis, maxit = 0)\n",
    "))\n",
    "pred <- ini$pred\n",
    "# Turn every entry in the predictor matrix to zero\n",
    "pred <- matrix(0,\n",
    "    nrow = nrow(pred), ncol = ncol(pred),\n",
    "    dimnames = list(rownames(pred), colnames(pred))\n",
    ")\n",
    "# Assign info to the \"popular\" row\n",
    "pred[\"popular\", ] <- c(0, -2, 0, 2, 1, 2, 0)\n",
    "\n",
    "# MI\n",
    "suppressWarnings(suppressMessages(\n",
    "    imp <- mice(popmis,\n",
    "        meth = c(\"\", \"\", \"2l.norm\", \"\", \"\", \"\", \"\"),\n",
    "        pred = pred, pri = F, maxit = 1, seed = 71152\n",
    "    )\n",
    "))\n",
    "\n",
    "# Inspect imputed data\n",
    "head(complete(imp))"
   ]
  },
  {
   "cell_type": "markdown",
   "metadata": {},
   "source": [
    "## 9. References\n",
    "van Buuren, S., & Groothuis-Oudshoorn, K. (2011). `mice`: Multivariate imputation by chained equations in `R`. *Journal of Statistical\n",
    "Software*, *45*(3), 1–67. <https://doi.org/10.18637/jss.v045.i03>\n",
    "\n",
    "Grund, S., Lüdtke, O., & Robitzsch, A. (2018). Multiple imputation of missing data for multilevel models: Simulations and\n",
    "recommendations. *Organizational Research Methods*, *21*(1), 111–149. <https://doi.org/10.1177/1094428117703686>\n",
    "\n",
    "Hox, J. J. (2002). *Multilevel analysis: Techniques and applications*. Lawrence Erlbaum Associates.\n",
    "\n",
    "Kleinke, K., Reinecke, J., Salfrán, D., & Spiess, M. (2020). *Applied multiple imputation: Advantages, pitfalls, new developments and\n",
    "applications in `R`*. Springer. <https://doi.org/10.1007/978-3-030-38164-6>\n",
    "\n",
    "Rose, N. (2013). *Item nonresponses in educational and psychological measurement* [PhD Thesis, Friedrich-Schiller-Universität\n",
    "Jena]. Open Access Thesis and Dissertations.\n",
    "<https://www.db-thueringen.de/servlets/MCRFileNodeServlet/dbt_derivate_00027809/Diss/NormanRose.pdf>\n",
    "\n",
    "Rubin, D. B. (1976). Inference and missing data. *Biometrika*, *63*(3), 581–592. <https://doi.org/10.1093/biomet/63.3.581>\n",
    "\n",
    "Schafer, J. L. (1997). *Analysis of incomplete multivariate data*. Chapman & Hall; CRC."
   ]
  }
 ],
 "metadata": {
  "kernelspec": {
   "display_name": "R",
   "language": "R",
   "name": "ir"
  },
  "language_info": {
   "codemirror_mode": "r",
   "file_extension": ".r",
   "mimetype": "text/x-r-source",
   "name": "R",
   "pygments_lexer": "r",
   "version": "4.1.2"
  },
  "orig_nbformat": 4
 },
 "nbformat": 4,
 "nbformat_minor": 2
}
